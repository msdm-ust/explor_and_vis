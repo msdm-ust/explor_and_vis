{
 "cells": [
  {
   "cell_type": "markdown",
   "metadata": {},
   "source": [
    "# Data Exploration"
   ]
  },
  {
   "cell_type": "markdown",
   "metadata": {},
   "source": [
    "## Instructions\n",
    "There are some data files related to transaction saved under the [data](../data) folder:\n",
    "- Looking into the data using appropriate functions and extract the fields in the data.\n",
    "- For each data, describe what the data is about and what fields are saved.\n",
    "\n",
    "You need to answer the questions and perform the task below:\n",
    "- How many transactions are in GBP?\n",
    "- How many transactions are NOT in USD?\n",
    "- What is the average and mediam transaction in USD?\n",
    "- Construct a table showing the number of transactions in EACH currency\n",
    "\n",
    "Note:\n",
    "- You are NOT ALLOWED to import other library or package\n",
    "- You can write you own functions\n",
    "- Your answers should be readable with approprate comments\n",
    "- You can refer to [markdown cheatsheet](https://github.com/adam-p/markdown-here/wiki/Markdown-Cheatsheet) if you are not familar with Markdown"
   ]
  },
  {
   "cell_type": "markdown",
   "metadata": {},
   "source": [
    "## Import libraries "
   ]
  },
  {
   "cell_type": "code",
   "execution_count": 2,
   "metadata": {},
   "outputs": [],
   "source": [
    "# Usual libraries are imported here\n",
    "import os\n",
    "import yaml\n",
    "import dask.dataframe as dd\n",
    "import pandas as pd\n",
    "import matplotlib\n",
    "import numpy as np\n",
    "import matplotlib.pyplot as plt\n",
    "%matplotlib inline"
   ]
  },
  {
   "cell_type": "markdown",
   "metadata": {},
   "source": [
    "## Please perform your tasks below and answer the questions"
   ]
  },
  {
   "cell_type": "code",
   "execution_count": 17,
   "metadata": {},
   "outputs": [
    {
     "name": "stdout",
     "output_type": "stream",
     "text": [
      "339091 of transactions were conducted in GBP.\n"
     ]
    }
   ],
   "source": [
    "# Read the csv file\n",
    "\n",
    "data = pd.read_csv(\"transactions.csv\") \n",
    "num_GBP = data[data['CURRENCY'] == 'GBP'].shape[0]\n",
    "\n",
    "# Print the number of transactions in GBP\n",
    "print(num_GBP, \"of transactions were conducted in GBP.\")"
   ]
  },
  {
   "cell_type": "code",
   "execution_count": 18,
   "metadata": {},
   "outputs": [
    {
     "name": "stdout",
     "output_type": "stream",
     "text": [
      "657109 of transactions were not conducted in USD.\n"
     ]
    }
   ],
   "source": [
    "num_no_USD = data[data['CURRENCY'] != 'USD'].shape[0]\n",
    "\n",
    "# Print the number of transactions not conducted in USD\n",
    "print(num_no_USD, \"of transactions were not conducted in USD.\")"
   ]
  },
  {
   "cell_type": "code",
   "execution_count": 44,
   "metadata": {},
   "outputs": [
    {
     "name": "stdout",
     "output_type": "stream",
     "text": [
      "The average and median transaction in USD were 7130793 and 1475 respectively.\n"
     ]
    }
   ],
   "source": [
    "# Get the average and median transactions in USD\n",
    "mean_USD = data['AMOUNT_USD'].mean()\n",
    "median_USD = data['AMOUNT_USD'].median()\n",
    "\n",
    "print(\"The average and median transaction in USD were\", \"{:.0f}\".format(mean_USD), \"and\", \"{:.0f}\".format(median_USD), \"respectively.\")"
   ]
  },
  {
   "cell_type": "code",
   "execution_count": 96,
   "metadata": {},
   "outputs": [
    {
     "name": "stdout",
     "output_type": "stream",
     "text": [
      "Currency Number of transactions\n",
      "-------- ----------------------\n",
      "GBP      339091\n",
      "EUR      264695\n",
      "USD      31542\n",
      "PLN      22362\n",
      "RON      5837\n",
      "CHF      5761\n",
      "NOK      2602\n",
      "AUD      2110\n",
      "DKK      1711\n",
      "SEK      1579\n",
      "CZK      1507\n",
      "CAD      1463\n",
      "HUF      1446\n",
      "ZAR      1126\n",
      "AED      847\n",
      "JPY      733\n",
      "NZD      717\n",
      "THB      690\n",
      "ILS      522\n",
      "SGD      487\n",
      "HKD      480\n",
      "TRY      338\n",
      "BTC      283\n",
      "INR      207\n",
      "ETH      197\n",
      "LTC      137\n",
      "MAD      115\n",
      "XRP      38\n",
      "QAR      28\n"
     ]
    }
   ],
   "source": [
    "# Construct a table showing the number of transaction in each currency\n",
    "\n",
    "num_ccy_transactions = data[\"CURRENCY\"].value_counts()\n",
    "\n",
    "\n",
    "print(\"Currency\", \"Number of transactions\")\n",
    "col1_len = len(\"Currency\")\n",
    "col2_len = len(\"Number of transactions\")\n",
    "print(\"-\"*col1_len, \"-\"*col2_len)\n",
    "for i in range(len(num_ccy_transactions)):\n",
    "    print(str(num_ccy_transactions.index[i]).ljust(col1_len), num_ccy_transactions[i])"
   ]
  }
 ],
 "metadata": {
  "kernelspec": {
   "display_name": "Python 3",
   "language": "python",
   "name": "python3"
  },
  "language_info": {
   "codemirror_mode": {
    "name": "ipython",
    "version": 3
   },
   "file_extension": ".py",
   "mimetype": "text/x-python",
   "name": "python",
   "nbconvert_exporter": "python",
   "pygments_lexer": "ipython3",
   "version": "3.7.4"
  }
 },
 "nbformat": 4,
 "nbformat_minor": 4
}
