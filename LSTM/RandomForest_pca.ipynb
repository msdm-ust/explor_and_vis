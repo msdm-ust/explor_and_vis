{
 "cells": [
  {
   "cell_type": "code",
   "execution_count": 1,
   "metadata": {},
   "outputs": [],
   "source": [
    "# Data Source: https://www.alphavantage.co\n",
    "# API Key: EVMRD162IRCITXSI"
   ]
  },
  {
   "cell_type": "code",
   "execution_count": 2,
   "metadata": {},
   "outputs": [],
   "source": [
    "from alpha_vantage.timeseries import TimeSeries\n",
    "import pandas as pd\n",
    "import matplotlib.pyplot as plt\n",
    "import numpy as np"
   ]
  },
  {
   "cell_type": "code",
   "execution_count": 3,
   "metadata": {},
   "outputs": [],
   "source": [
    "# Download stock historical data and visualize it\n",
    "from alpha_vantage.timeseries import TimeSeries\n",
    "from alpha_vantage.fundamentaldata import FundamentalData\n",
    "from alpha_vantage.techindicators import TechIndicators\n",
    "ts = TimeSeries(key='EVMRD162IRCITXSI',output_format='pandas')\n",
    "fd=FundamentalData(key='EVMRD162IRCITXSI',output_format='pandas')\n",
    "TI=TechIndicators(key='EVMRD162IRCITXSI',output_format='pandas')\n",
    "# Get json object with the intraday data and another with  the call's metadata"
   ]
  },
  {
   "cell_type": "code",
   "execution_count": 4,
   "metadata": {},
   "outputs": [],
   "source": [
    "# Download stock historical data\n",
    "stock_data,stock_meta_data=ts.get_daily_adjusted('AAPL',outputsize='full')"
   ]
  },
  {
   "cell_type": "code",
   "execution_count": 5,
   "metadata": {},
   "outputs": [],
   "source": [
    "# Download stock technical indicators\n",
    "ema_data,ema_matadata=TI.get_ema('AAPL', interval='daily', time_period=20, series_type='close')\n",
    "sma_data,sma_matadata=TI.get_sma('AAPL', interval='daily', time_period=20, series_type='close')\n",
    "macd_data,macd_matadata=TI.get_macd('AAPL', interval='daily', series_type='close')\n",
    "stoch_data,stock_matadata=TI.get_stoch('AAPL', interval='daily')"
   ]
  },
  {
   "cell_type": "code",
   "execution_count": 7,
   "metadata": {},
   "outputs": [],
   "source": [
    "rsi_data,rsi_matadata=TI.get_rsi('AAPL', interval='daily', time_period=20)\n",
    "obv_data,obv_matadata=TI.get_obv('AAPL', interval='daily')\n",
    "cci_data,cci_matadata=TI.get_cci('AAPL', interval='daily', time_period=20)"
   ]
  },
  {
   "cell_type": "code",
   "execution_count": 9,
   "metadata": {},
   "outputs": [],
   "source": [
    "aroon_data,aroon_matadata=TI.get_aroon('AAPL', interval='daily', time_period=20, series_type='close')\n",
    "bbands_data,bbands_matadata=TI.get_bbands('AAPL', interval='daily', time_period=20,  series_type='close')\n",
    "ad_data,ad_matadata=TI.get_ad('AAPL', interval='daily')"
   ]
  },
  {
   "cell_type": "code",
   "execution_count": 10,
   "metadata": {},
   "outputs": [],
   "source": [
    "# Using the most recent five year historical stock price data for analysis\n",
    "\n",
    "stock_price = stock_data[stock_data.index > '2000-04-01']['5. adjusted close']\n",
    "ema_recent = ema_data[ema_data.index > '2000-04-01']['EMA']\n",
    "sma_recent = sma_data[sma_data.index > '2000-04-01']['SMA']\n",
    "macd_recent = macd_data[macd_data.index > '2000-04-01']['MACD']\n",
    "obv_recent = obv_data[obv_data.index > '2000-04-01']['OBV']\n",
    "rsi_recent = rsi_data[rsi_data.index > '2000-04-01']['RSI']\n",
    "stoch_recent=stoch_data[stoch_data.index > '2000-04-01']['SlowD']\n",
    "cci_recent=cci_data[cci_data.index > '2000-04-01']['CCI']\n",
    "aroon_recent=aroon_data[aroon_data.index > '2000-04-01']['Aroon Up']\n",
    "bbands_recent=bbands_data[bbands_data.index > '2000-04-01']['Real Middle Band']\n",
    "ad_recent=ad_data[ad_data.index > '2000-04-01']['Chaikin A/D']"
   ]
  },
  {
   "cell_type": "code",
   "execution_count": 42,
   "metadata": {},
   "outputs": [],
   "source": [
    "#candidate_features=stock_price.to_frame().join(ema_recent).join(macd_recent).join(obv_recent).join(rsi_recent)\n",
    "candidate_features=stock_price.to_frame().join(ema_recent).join(sma_recent).join(macd_recent).join(obv_recent).join(rsi_recent).join(stoch_recent).join(cci_recent).join(aroon_recent).join(bbands_recent).join(ad_recent)\n",
    "#candidate_features"
   ]
  },
  {
   "cell_type": "markdown",
   "metadata": {},
   "source": [
    "# normalization"
   ]
  },
  {
   "cell_type": "code",
   "execution_count": 12,
   "metadata": {},
   "outputs": [],
   "source": [
    "from sklearn.preprocessing import MinMaxScaler\n",
    "scaler=MinMaxScaler()\n",
    "normed_values=MinMaxScaler().fit_transform(candidate_features.values)\n",
    "normed_candidate_features=pd.DataFrame(normed_values,columns=candidate_features.columns,index=candidate_features.index)"
   ]
  },
  {
   "cell_type": "markdown",
   "metadata": {},
   "source": [
    "### Target data"
   ]
  },
  {
   "cell_type": "code",
   "execution_count": 13,
   "metadata": {},
   "outputs": [
    {
     "data": {
      "text/plain": [
       "array([0.84920042, 0.84016326, 0.85368397, ..., 0.00561012, 0.00544474,\n",
       "       0.00576796])"
      ]
     },
     "execution_count": 13,
     "metadata": {},
     "output_type": "execute_result"
    }
   ],
   "source": [
    "target_feature=np.array(normed_candidate_features[\"5. adjusted close\"])\n",
    "target_feature"
   ]
  },
  {
   "cell_type": "markdown",
   "metadata": {},
   "source": [
    "###     features data after normalized"
   ]
  },
  {
   "cell_type": "code",
   "execution_count": 14,
   "metadata": {},
   "outputs": [
    {
     "data": {
      "text/html": [
       "<div>\n",
       "<style scoped>\n",
       "    .dataframe tbody tr th:only-of-type {\n",
       "        vertical-align: middle;\n",
       "    }\n",
       "\n",
       "    .dataframe tbody tr th {\n",
       "        vertical-align: top;\n",
       "    }\n",
       "\n",
       "    .dataframe thead th {\n",
       "        text-align: right;\n",
       "    }\n",
       "</style>\n",
       "<table border=\"1\" class=\"dataframe\">\n",
       "  <thead>\n",
       "    <tr style=\"text-align: right;\">\n",
       "      <th></th>\n",
       "      <th>EMA</th>\n",
       "      <th>SMA</th>\n",
       "      <th>MACD</th>\n",
       "      <th>OBV</th>\n",
       "      <th>RSI</th>\n",
       "      <th>SlowD</th>\n",
       "      <th>CCI</th>\n",
       "      <th>Aroon Up</th>\n",
       "      <th>Real Middle Band</th>\n",
       "      <th>Chaikin A/D</th>\n",
       "    </tr>\n",
       "    <tr>\n",
       "      <th>date</th>\n",
       "      <th></th>\n",
       "      <th></th>\n",
       "      <th></th>\n",
       "      <th></th>\n",
       "      <th></th>\n",
       "      <th></th>\n",
       "      <th></th>\n",
       "      <th></th>\n",
       "      <th></th>\n",
       "      <th></th>\n",
       "    </tr>\n",
       "  </thead>\n",
       "  <tbody>\n",
       "    <tr>\n",
       "      <th>2021-03-05</th>\n",
       "      <td>0.941222</td>\n",
       "      <td>0.945707</td>\n",
       "      <td>0.128614</td>\n",
       "      <td>0.930275</td>\n",
       "      <td>0.253851</td>\n",
       "      <td>0.364418</td>\n",
       "      <td>0.361260</td>\n",
       "      <td>0.15</td>\n",
       "      <td>0.945707</td>\n",
       "      <td>0.992990</td>\n",
       "    </tr>\n",
       "    <tr>\n",
       "      <th>2021-03-04</th>\n",
       "      <td>0.945588</td>\n",
       "      <td>0.951506</td>\n",
       "      <td>0.137481</td>\n",
       "      <td>0.928993</td>\n",
       "      <td>0.223809</td>\n",
       "      <td>0.495890</td>\n",
       "      <td>0.353740</td>\n",
       "      <td>0.20</td>\n",
       "      <td>0.951506</td>\n",
       "      <td>0.991754</td>\n",
       "    </tr>\n",
       "    <tr>\n",
       "      <th>2021-03-03</th>\n",
       "      <td>0.951421</td>\n",
       "      <td>0.956512</td>\n",
       "      <td>0.163151</td>\n",
       "      <td>0.930478</td>\n",
       "      <td>0.253027</td>\n",
       "      <td>0.561097</td>\n",
       "      <td>0.377397</td>\n",
       "      <td>0.25</td>\n",
       "      <td>0.956512</td>\n",
       "      <td>0.992492</td>\n",
       "    </tr>\n",
       "    <tr>\n",
       "      <th>2021-03-02</th>\n",
       "      <td>0.956361</td>\n",
       "      <td>0.961194</td>\n",
       "      <td>0.182871</td>\n",
       "      <td>0.931420</td>\n",
       "      <td>0.302868</td>\n",
       "      <td>0.478565</td>\n",
       "      <td>0.418118</td>\n",
       "      <td>0.30</td>\n",
       "      <td>0.961194</td>\n",
       "      <td>0.993546</td>\n",
       "    </tr>\n",
       "    <tr>\n",
       "      <th>2021-03-01</th>\n",
       "      <td>0.959430</td>\n",
       "      <td>0.964439</td>\n",
       "      <td>0.185244</td>\n",
       "      <td>0.932272</td>\n",
       "      <td>0.350623</td>\n",
       "      <td>0.421830</td>\n",
       "      <td>0.406773</td>\n",
       "      <td>0.35</td>\n",
       "      <td>0.964439</td>\n",
       "      <td>0.994558</td>\n",
       "    </tr>\n",
       "    <tr>\n",
       "      <th>...</th>\n",
       "      <td>...</td>\n",
       "      <td>...</td>\n",
       "      <td>...</td>\n",
       "      <td>...</td>\n",
       "      <td>...</td>\n",
       "      <td>...</td>\n",
       "      <td>...</td>\n",
       "      <td>...</td>\n",
       "      <td>...</td>\n",
       "      <td>...</td>\n",
       "    </tr>\n",
       "    <tr>\n",
       "      <th>2000-04-07</th>\n",
       "      <td>0.005825</td>\n",
       "      <td>0.005803</td>\n",
       "      <td>0.381869</td>\n",
       "      <td>0.217891</td>\n",
       "      <td>0.459313</td>\n",
       "      <td>0.516762</td>\n",
       "      <td>0.495927</td>\n",
       "      <td>0.45</td>\n",
       "      <td>0.005803</td>\n",
       "      <td>0.185197</td>\n",
       "    </tr>\n",
       "    <tr>\n",
       "      <th>2000-04-06</th>\n",
       "      <td>0.005812</td>\n",
       "      <td>0.005786</td>\n",
       "      <td>0.381943</td>\n",
       "      <td>0.215869</td>\n",
       "      <td>0.404449</td>\n",
       "      <td>0.498767</td>\n",
       "      <td>0.473788</td>\n",
       "      <td>0.50</td>\n",
       "      <td>0.005786</td>\n",
       "      <td>0.182750</td>\n",
       "    </tr>\n",
       "    <tr>\n",
       "      <th>2000-04-05</th>\n",
       "      <td>0.005838</td>\n",
       "      <td>0.005778</td>\n",
       "      <td>0.382446</td>\n",
       "      <td>0.218034</td>\n",
       "      <td>0.452434</td>\n",
       "      <td>0.451024</td>\n",
       "      <td>0.495206</td>\n",
       "      <td>0.55</td>\n",
       "      <td>0.005778</td>\n",
       "      <td>0.184539</td>\n",
       "    </tr>\n",
       "    <tr>\n",
       "      <th>2000-04-04</th>\n",
       "      <td>0.005835</td>\n",
       "      <td>0.005755</td>\n",
       "      <td>0.382717</td>\n",
       "      <td>0.214218</td>\n",
       "      <td>0.426701</td>\n",
       "      <td>0.350123</td>\n",
       "      <td>0.461709</td>\n",
       "      <td>0.60</td>\n",
       "      <td>0.005755</td>\n",
       "      <td>0.182436</td>\n",
       "    </tr>\n",
       "    <tr>\n",
       "      <th>2000-04-03</th>\n",
       "      <td>0.005849</td>\n",
       "      <td>0.005742</td>\n",
       "      <td>0.383220</td>\n",
       "      <td>0.219723</td>\n",
       "      <td>0.483861</td>\n",
       "      <td>0.240672</td>\n",
       "      <td>0.556048</td>\n",
       "      <td>0.65</td>\n",
       "      <td>0.005742</td>\n",
       "      <td>0.180354</td>\n",
       "    </tr>\n",
       "  </tbody>\n",
       "</table>\n",
       "<p>5264 rows × 10 columns</p>\n",
       "</div>"
      ],
      "text/plain": [
       "                 EMA       SMA      MACD       OBV       RSI     SlowD  \\\n",
       "date                                                                     \n",
       "2021-03-05  0.941222  0.945707  0.128614  0.930275  0.253851  0.364418   \n",
       "2021-03-04  0.945588  0.951506  0.137481  0.928993  0.223809  0.495890   \n",
       "2021-03-03  0.951421  0.956512  0.163151  0.930478  0.253027  0.561097   \n",
       "2021-03-02  0.956361  0.961194  0.182871  0.931420  0.302868  0.478565   \n",
       "2021-03-01  0.959430  0.964439  0.185244  0.932272  0.350623  0.421830   \n",
       "...              ...       ...       ...       ...       ...       ...   \n",
       "2000-04-07  0.005825  0.005803  0.381869  0.217891  0.459313  0.516762   \n",
       "2000-04-06  0.005812  0.005786  0.381943  0.215869  0.404449  0.498767   \n",
       "2000-04-05  0.005838  0.005778  0.382446  0.218034  0.452434  0.451024   \n",
       "2000-04-04  0.005835  0.005755  0.382717  0.214218  0.426701  0.350123   \n",
       "2000-04-03  0.005849  0.005742  0.383220  0.219723  0.483861  0.240672   \n",
       "\n",
       "                 CCI  Aroon Up  Real Middle Band  Chaikin A/D  \n",
       "date                                                           \n",
       "2021-03-05  0.361260      0.15          0.945707     0.992990  \n",
       "2021-03-04  0.353740      0.20          0.951506     0.991754  \n",
       "2021-03-03  0.377397      0.25          0.956512     0.992492  \n",
       "2021-03-02  0.418118      0.30          0.961194     0.993546  \n",
       "2021-03-01  0.406773      0.35          0.964439     0.994558  \n",
       "...              ...       ...               ...          ...  \n",
       "2000-04-07  0.495927      0.45          0.005803     0.185197  \n",
       "2000-04-06  0.473788      0.50          0.005786     0.182750  \n",
       "2000-04-05  0.495206      0.55          0.005778     0.184539  \n",
       "2000-04-04  0.461709      0.60          0.005755     0.182436  \n",
       "2000-04-03  0.556048      0.65          0.005742     0.180354  \n",
       "\n",
       "[5264 rows x 10 columns]"
      ]
     },
     "execution_count": 14,
     "metadata": {},
     "output_type": "execute_result"
    }
   ],
   "source": [
    "normed_features=normed_candidate_features.iloc[:,1:].copy()\n",
    "normed_features\n",
    "#np.var(features_data, axis = 0)"
   ]
  },
  {
   "cell_type": "markdown",
   "metadata": {},
   "source": [
    "# Filter based on variance"
   ]
  },
  {
   "cell_type": "code",
   "execution_count": 15,
   "metadata": {},
   "outputs": [
    {
     "name": "stdout",
     "output_type": "stream",
     "text": [
      "[0.03509659 0.03454983 0.0039211  0.10158812 0.03048757 0.06433968\n",
      " 0.01929603 0.1336781  0.03454983 0.11135155]\n"
     ]
    },
    {
     "data": {
      "image/png": "[encoded data removed]",
      "text/plain": [
       "<Figure size 1080x288 with 1 Axes>"
      ]
     },
     "metadata": {
      "needs_background": "light"
     },
     "output_type": "display_data"
    }
   ],
   "source": [
    "normed_var=np.var(normed_features.values, axis = 0)\n",
    "normed_features_dict=dict(zip(normed_features.columns,normed_var))\n",
    "fig = plt.figure(figsize=(15,4))#dpihttp://localhost:8888/notebooks/MSDM%206980%20Data%20Extraction%20API.ipynb#Filter-based-on-variance=70)\n",
    "plt.bar(normed_features_dict.keys(),normed_features_dict.values())\n",
    "plt.title(\"The variance of the normalized candidates features\",fontsize=15)\n",
    "print(normed_var)"
   ]
  },
  {
   "cell_type": "code",
   "execution_count": 16,
   "metadata": {},
   "outputs": [],
   "source": [
    "sorted_item=sorted(normed_features_dict.items(), key = lambda kv:(kv[1], kv[0]))\n",
    "left_keys=[key for key,value in sorted_item[3:]]\n",
    "after_var_left=normed_features[left_keys].copy()\n",
    "#after_var_left"
   ]
  },
  {
   "cell_type": "markdown",
   "metadata": {},
   "source": [
    "# Filter based on correlation"
   ]
  },
  {
   "cell_type": "code",
   "execution_count": 17,
   "metadata": {},
   "outputs": [
    {
     "data": {
      "text/html": [
       "<div>\n",
       "<style scoped>\n",
       "    .dataframe tbody tr th:only-of-type {\n",
       "        vertical-align: middle;\n",
       "    }\n",
       "\n",
       "    .dataframe tbody tr th {\n",
       "        vertical-align: top;\n",
       "    }\n",
       "\n",
       "    .dataframe thead th {\n",
       "        text-align: right;\n",
       "    }\n",
       "</style>\n",
       "<table border=\"1\" class=\"dataframe\">\n",
       "  <thead>\n",
       "    <tr style=\"text-align: right;\">\n",
       "      <th></th>\n",
       "      <th>Real Middle Band</th>\n",
       "      <th>SMA</th>\n",
       "      <th>EMA</th>\n",
       "      <th>OBV</th>\n",
       "      <th>Chaikin A/D</th>\n",
       "    </tr>\n",
       "    <tr>\n",
       "      <th>date</th>\n",
       "      <th></th>\n",
       "      <th></th>\n",
       "      <th></th>\n",
       "      <th></th>\n",
       "      <th></th>\n",
       "    </tr>\n",
       "  </thead>\n",
       "  <tbody>\n",
       "    <tr>\n",
       "      <th>2021-03-05</th>\n",
       "      <td>0.945707</td>\n",
       "      <td>0.945707</td>\n",
       "      <td>0.941222</td>\n",
       "      <td>0.930275</td>\n",
       "      <td>0.992990</td>\n",
       "    </tr>\n",
       "    <tr>\n",
       "      <th>2021-03-04</th>\n",
       "      <td>0.951506</td>\n",
       "      <td>0.951506</td>\n",
       "      <td>0.945588</td>\n",
       "      <td>0.928993</td>\n",
       "      <td>0.991754</td>\n",
       "    </tr>\n",
       "    <tr>\n",
       "      <th>2021-03-03</th>\n",
       "      <td>0.956512</td>\n",
       "      <td>0.956512</td>\n",
       "      <td>0.951421</td>\n",
       "      <td>0.930478</td>\n",
       "      <td>0.992492</td>\n",
       "    </tr>\n",
       "    <tr>\n",
       "      <th>2021-03-02</th>\n",
       "      <td>0.961194</td>\n",
       "      <td>0.961194</td>\n",
       "      <td>0.956361</td>\n",
       "      <td>0.931420</td>\n",
       "      <td>0.993546</td>\n",
       "    </tr>\n",
       "    <tr>\n",
       "      <th>2021-03-01</th>\n",
       "      <td>0.964439</td>\n",
       "      <td>0.964439</td>\n",
       "      <td>0.959430</td>\n",
       "      <td>0.932272</td>\n",
       "      <td>0.994558</td>\n",
       "    </tr>\n",
       "    <tr>\n",
       "      <th>...</th>\n",
       "      <td>...</td>\n",
       "      <td>...</td>\n",
       "      <td>...</td>\n",
       "      <td>...</td>\n",
       "      <td>...</td>\n",
       "    </tr>\n",
       "    <tr>\n",
       "      <th>2000-04-07</th>\n",
       "      <td>0.005803</td>\n",
       "      <td>0.005803</td>\n",
       "      <td>0.005825</td>\n",
       "      <td>0.217891</td>\n",
       "      <td>0.185197</td>\n",
       "    </tr>\n",
       "    <tr>\n",
       "      <th>2000-04-06</th>\n",
       "      <td>0.005786</td>\n",
       "      <td>0.005786</td>\n",
       "      <td>0.005812</td>\n",
       "      <td>0.215869</td>\n",
       "      <td>0.182750</td>\n",
       "    </tr>\n",
       "    <tr>\n",
       "      <th>2000-04-05</th>\n",
       "      <td>0.005778</td>\n",
       "      <td>0.005778</td>\n",
       "      <td>0.005838</td>\n",
       "      <td>0.218034</td>\n",
       "      <td>0.184539</td>\n",
       "    </tr>\n",
       "    <tr>\n",
       "      <th>2000-04-04</th>\n",
       "      <td>0.005755</td>\n",
       "      <td>0.005755</td>\n",
       "      <td>0.005835</td>\n",
       "      <td>0.214218</td>\n",
       "      <td>0.182436</td>\n",
       "    </tr>\n",
       "    <tr>\n",
       "      <th>2000-04-03</th>\n",
       "      <td>0.005742</td>\n",
       "      <td>0.005742</td>\n",
       "      <td>0.005849</td>\n",
       "      <td>0.219723</td>\n",
       "      <td>0.180354</td>\n",
       "    </tr>\n",
       "  </tbody>\n",
       "</table>\n",
       "<p>5264 rows × 5 columns</p>\n",
       "</div>"
      ],
      "text/plain": [
       "            Real Middle Band       SMA       EMA       OBV  Chaikin A/D\n",
       "date                                                                   \n",
       "2021-03-05          0.945707  0.945707  0.941222  0.930275     0.992990\n",
       "2021-03-04          0.951506  0.951506  0.945588  0.928993     0.991754\n",
       "2021-03-03          0.956512  0.956512  0.951421  0.930478     0.992492\n",
       "2021-03-02          0.961194  0.961194  0.956361  0.931420     0.993546\n",
       "2021-03-01          0.964439  0.964439  0.959430  0.932272     0.994558\n",
       "...                      ...       ...       ...       ...          ...\n",
       "2000-04-07          0.005803  0.005803  0.005825  0.217891     0.185197\n",
       "2000-04-06          0.005786  0.005786  0.005812  0.215869     0.182750\n",
       "2000-04-05          0.005778  0.005778  0.005838  0.218034     0.184539\n",
       "2000-04-04          0.005755  0.005755  0.005835  0.214218     0.182436\n",
       "2000-04-03          0.005742  0.005742  0.005849  0.219723     0.180354\n",
       "\n",
       "[5264 rows x 5 columns]"
      ]
     },
     "execution_count": 17,
     "metadata": {},
     "output_type": "execute_result"
    }
   ],
   "source": [
    "from sklearn.feature_selection import f_regression\n",
    "from sklearn.feature_selection import SelectKBest\n",
    " \n",
    "# 代表选择特征值的数量\n",
    " \n",
    "selectkBest=SelectKBest(f_regression,k=5)\n",
    " \n",
    "# 调用fit方法进行最好特征的选择\n",
    " \n",
    "bestFeature=selectkBest.fit_transform(after_var_left.values,target_feature)\n",
    " \n",
    "# 查看关键因子\n",
    "columns=after_var_left.columns[selectkBest.get_support()]\n",
    "after_var_corr_left=after_var_left[columns]\n",
    "after_var_corr_left"
   ]
  },
  {
   "cell_type": "markdown",
   "metadata": {},
   "source": [
    "# After PCA"
   ]
  },
  {
   "cell_type": "code",
   "execution_count": 36,
   "metadata": {},
   "outputs": [
    {
     "data": {
      "text/plain": [
       "array([[ 1.08100947e+00,  9.94099335e-01,  6.68585244e-02],\n",
       "       [ 1.08403252e+00,  1.00293999e+00,  6.77251340e-02],\n",
       "       [ 1.08991660e+00,  1.01001207e+00,  6.90860129e-02],\n",
       "       ...,\n",
       "       [-6.60192952e-01,  1.18684194e-01, -4.27405400e-04],\n",
       "       [-6.63800633e-01,  1.20846600e-01, -1.56443375e-03],\n",
       "       [-6.61876192e-01,  1.19156182e-01,  3.73441180e-03]])"
      ]
     },
     "execution_count": 36,
     "metadata": {},
     "output_type": "execute_result"
    }
   ],
   "source": [
    "from sklearn.decomposition import PCA\n",
    "\n",
    "dataset=PCA(n_components=3).fit_transform(after_var_corr_left.values)\n",
    "dataset"
   ]
  },
  {
   "cell_type": "markdown",
   "metadata": {},
   "source": [
    "# 调整数据集顺序，使train集是历史数据"
   ]
  },
  {
   "cell_type": "code",
   "execution_count": 19,
   "metadata": {},
   "outputs": [],
   "source": [
    "dataset = dataset[::-1]\n",
    "y_list = target_feature[::-1]"
   ]
  },
  {
   "cell_type": "code",
   "execution_count": 20,
   "metadata": {},
   "outputs": [],
   "source": [
    "# 划分数据集\n",
    "train_size=int(len(dataset)*0.65)\n",
    "\n",
    "train_list=dataset[:train_size]\n",
    "test_list=dataset[train_size-1:]\n",
    "\n",
    "y_train=y_list[:train_size]\n",
    "y_test=y_list[train_size-1:]"
   ]
  },
  {
   "cell_type": "code",
   "execution_count": 61,
   "metadata": {},
   "outputs": [
    {
     "data": {
      "text/plain": [
       "[<matplotlib.lines.Line2D at 0x7fada49fd6d0>]"
      ]
     },
     "execution_count": 61,
     "metadata": {},
     "output_type": "execute_result"
    },
    {
     "data": {
      "image/png": "[encoded data removed]",
      "text/plain": [
       "<Figure size 432x288 with 1 Axes>"
      ]
     },
     "metadata": {
      "needs_background": "light"
     },
     "output_type": "display_data"
    }
   ],
   "source": [
    "from sklearn.preprocessing import StandardScaler\n",
    "from sklearn.ensemble import RandomForestRegressor\n",
    "from sklearn import metrics\n",
    "\n",
    "# 找 mse 小的 n_estimators 参数\n",
    "mse=[]\n",
    "estimators_number = [20,30,40,80,100,200]\n",
    "for i in estimators_number:\n",
    "    regressor = RandomForestRegressor(n_estimators=i, oob_score=True, random_state=0)\n",
    "    regressor.fit(train_list, y_train)\n",
    "    y_pred = regressor.predict(test_list)\n",
    "    mse.append(metrics.mean_squared_error(y_test, y_pred))\n",
    "    \n",
    "plt.plot(estimators_number,mse)"
   ]
  },
  {
   "cell_type": "code",
   "execution_count": 62,
   "metadata": {},
   "outputs": [
    {
     "name": "stdout",
     "output_type": "stream",
     "text": [
      "Mean Absolute Error after StandardScaler: 0.17854787731537072\n",
      "Mean Squared Error after StandardScaler: 0.06909167599465449\n"
     ]
    }
   ],
   "source": [
    "sc = StandardScaler()\n",
    "X_train = sc.fit_transform(train_list)\n",
    "X_test = sc.transform(test_list)\n",
    "\n",
    "# 训练随机森林解决回归问题\n",
    "\n",
    "regressor = RandomForestRegressor(n_estimators=25, oob_score=True, random_state=0)\n",
    "regressor.fit(X_train, y_train)\n",
    "y_pred = regressor.predict(X_test)\n",
    "\n",
    "print('Mean Absolute Error after StandardScaler:', metrics.mean_absolute_error(y_test, y_pred))\n",
    "print('Mean Squared Error after StandardScaler:', metrics.mean_squared_error(y_test, y_pred))"
   ]
  },
  {
   "cell_type": "code",
   "execution_count": 63,
   "metadata": {},
   "outputs": [
    {
     "data": {
      "image/png": "[encoded data removed]",
      "text/plain": [
       "<Figure size 432x288 with 1 Axes>"
      ]
     },
     "metadata": {
      "needs_background": "light"
     },
     "output_type": "display_data"
    },
    {
     "name": "stdout",
     "output_type": "stream",
     "text": [
      "[PCA] Mean Squared Error before StandardScaler: 1407.8005800757119\n"
     ]
    }
   ],
   "source": [
    "#画图\n",
    "# y=y_test\n",
    "# y1=y_pred\n",
    "y_original = stock_price.values\n",
    "scaler=MinMaxScaler()\n",
    "xxx = scaler.fit_transform(y_original.reshape(-1,1))\n",
    "y=scaler.inverse_transform(y_test.reshape(-1,1))\n",
    "y1=scaler.inverse_transform(y_pred.reshape(-1,1))\n",
    "\n",
    "plt.plot(y,label='real')\n",
    "plt.plot(y1,label='predict')\n",
    "plt.ylabel('price')\n",
    "plt.xlabel('days')\n",
    "plt.legend()\n",
    "plt.show()\n",
    "\n",
    "print('[PCA] Mean Squared Error before StandardScaler:', metrics.mean_squared_error(y, y1))"
   ]
  },
  {
   "cell_type": "code",
   "execution_count": 64,
   "metadata": {},
   "outputs": [
    {
     "data": {
      "image/png": "[encoded data removed]",
      "text/plain": [
       "<Figure size 432x288 with 1 Axes>"
      ]
     },
     "metadata": {
      "needs_background": "light"
     },
     "output_type": "display_data"
    }
   ],
   "source": [
    "plt.plot(y[:20],'bo-',label='real')\n",
    "plt.plot(y1[:20],'ro-',label='predict')\n",
    "plt.ylabel('price')\n",
    "plt.xlabel('days')\n",
    "plt.legend()\n",
    "plt.show()"
   ]
  },
  {
   "cell_type": "code",
   "execution_count": null,
   "metadata": {},
   "outputs": [],
   "source": []
  }
 ],
 "metadata": {
  "kernelspec": {
   "display_name": "Python 3",
   "language": "python",
   "name": "python3"
  },
  "language_info": {
   "codemirror_mode": {
    "name": "ipython",
    "version": 3
   },
   "file_extension": ".py",
   "mimetype": "text/x-python",
   "name": "python",
   "nbconvert_exporter": "python",
   "pygments_lexer": "ipython3",
   "version": "3.9.1"
  }
 },
 "nbformat": 4,
 "nbformat_minor": 2
}
