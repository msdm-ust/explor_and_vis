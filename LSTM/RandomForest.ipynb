{
 "cells": [
  {
   "cell_type": "code",
   "execution_count": 1,
   "metadata": {},
   "outputs": [],
   "source": [
    "# Data Source: https://www.alphavantage.co\n",
    "# API Key: EVMRD162IRCITXSI"
   ]
  },
  {
   "cell_type": "code",
   "execution_count": 2,
   "metadata": {},
   "outputs": [],
   "source": [
    "from alpha_vantage.timeseries import TimeSeries\n",
    "import pandas as pd\n",
    "import matplotlib.pyplot as plt\n",
    "import numpy as np"
   ]
  },
  {
   "cell_type": "code",
   "execution_count": 4,
   "metadata": {},
   "outputs": [],
   "source": [
    "# Download stock historical data and visualize it\n",
    "from alpha_vantage.timeseries import TimeSeries\n",
    "from alpha_vantage.fundamentaldata import FundamentalData\n",
    "from alpha_vantage.techindicators import TechIndicators\n",
    "ts = TimeSeries(key='EVMRD162IRCITXSI',output_format='pandas')\n",
    "fd=FundamentalData(key='EVMRD162IRCITXSI',output_format='pandas')\n",
    "TI=TechIndicators(key='EVMRD162IRCITXSI',output_format='pandas')\n",
    "# Get json object with the intraday data and another with  the call's metadata"
   ]
  },
  {
   "cell_type": "code",
   "execution_count": 5,
   "metadata": {},
   "outputs": [],
   "source": [
    "# Download stock historical data\n",
    "stock_data,stock_meta_data=ts.get_daily_adjusted('AAPL',outputsize='full')"
   ]
  },
  {
   "cell_type": "code",
   "execution_count": 11,
   "metadata": {},
   "outputs": [],
   "source": [
    "# Download stock technical indicators\n",
    "ema_data,ema_matadata=TI.get_ema('AAPL', interval='daily', time_period=100, series_type='close')\n",
    "macd_data,macd_matadata=TI.get_macd('AAPL', interval='daily', series_type='close')\n",
    "stoch_data,stock_matadata=TI.get_stoch('AAPL', interval='daily')\n",
    "rsi_data,rsi_matadata=TI.get_rsi('AAPL', interval='daily', time_period=100)"
   ]
  },
  {
   "cell_type": "code",
   "execution_count": 10,
   "metadata": {},
   "outputs": [],
   "source": [
    "obv_data,obv_matadata=TI.get_obv('AAPL', interval='daily')"
   ]
  },
  {
   "cell_type": "code",
   "execution_count": 12,
   "metadata": {},
   "outputs": [],
   "source": [
    "# Using the most recent five year historical stock price data for analysis\n",
    "stock_price = stock_data[stock_data.index > '2000-03-24']['5. adjusted close']\n",
    "ema_recent = ema_data[ema_data.index > '2000-03-24']['EMA']\n",
    "macd_recent = macd_data[macd_data.index > '2000-03-24']['MACD_Signal']\n",
    "obv_recent = obv_data[obv_data.index > '2000-03-24']['OBV']\n",
    "rsi_recent = rsi_data[rsi_data.index > '2000-03-24']['RSI']"
   ]
  },
  {
   "cell_type": "code",
   "execution_count": 14,
   "metadata": {},
   "outputs": [
    {
     "data": {
      "text/html": [
       "<div>\n",
       "<style scoped>\n",
       "    .dataframe tbody tr th:only-of-type {\n",
       "        vertical-align: middle;\n",
       "    }\n",
       "\n",
       "    .dataframe tbody tr th {\n",
       "        vertical-align: top;\n",
       "    }\n",
       "\n",
       "    .dataframe thead th {\n",
       "        text-align: right;\n",
       "    }\n",
       "</style>\n",
       "<table border=\"1\" class=\"dataframe\">\n",
       "  <thead>\n",
       "    <tr style=\"text-align: right;\">\n",
       "      <th></th>\n",
       "      <th>5. adjusted close</th>\n",
       "      <th>EMA</th>\n",
       "      <th>MACD_Signal</th>\n",
       "      <th>RSI</th>\n",
       "      <th>OBV</th>\n",
       "    </tr>\n",
       "    <tr>\n",
       "      <th>date</th>\n",
       "      <th></th>\n",
       "      <th></th>\n",
       "      <th></th>\n",
       "      <th></th>\n",
       "      <th></th>\n",
       "    </tr>\n",
       "  </thead>\n",
       "  <tbody>\n",
       "    <tr>\n",
       "      <th>2021-03-03</th>\n",
       "      <td>122.060000</td>\n",
       "      <td>124.6167</td>\n",
       "      <td>-1.6684</td>\n",
       "      <td>52.2472</td>\n",
       "      <td>9.450345e+10</td>\n",
       "    </tr>\n",
       "    <tr>\n",
       "      <th>2021-03-02</th>\n",
       "      <td>125.120000</td>\n",
       "      <td>124.6684</td>\n",
       "      <td>-1.4272</td>\n",
       "      <td>53.0887</td>\n",
       "      <td>9.461641e+10</td>\n",
       "    </tr>\n",
       "    <tr>\n",
       "      <th>2021-03-01</th>\n",
       "      <td>127.790000</td>\n",
       "      <td>124.6592</td>\n",
       "      <td>-1.1855</td>\n",
       "      <td>53.8376</td>\n",
       "      <td>9.471867e+10</td>\n",
       "    </tr>\n",
       "    <tr>\n",
       "      <th>2021-02-26</th>\n",
       "      <td>121.260000</td>\n",
       "      <td>124.5960</td>\n",
       "      <td>-0.8905</td>\n",
       "      <td>52.2050</td>\n",
       "      <td>9.460237e+10</td>\n",
       "    </tr>\n",
       "    <tr>\n",
       "      <th>2021-02-25</th>\n",
       "      <td>120.990000</td>\n",
       "      <td>124.6634</td>\n",
       "      <td>-0.4717</td>\n",
       "      <td>52.1357</td>\n",
       "      <td>9.443894e+10</td>\n",
       "    </tr>\n",
       "    <tr>\n",
       "      <th>...</th>\n",
       "      <td>...</td>\n",
       "      <td>...</td>\n",
       "      <td>...</td>\n",
       "      <td>...</td>\n",
       "      <td>...</td>\n",
       "    </tr>\n",
       "    <tr>\n",
       "      <th>2000-03-31</th>\n",
       "      <td>1.044346</td>\n",
       "      <td>0.8413</td>\n",
       "      <td>0.0412</td>\n",
       "      <td>57.3353</td>\n",
       "      <td>9.575069e+09</td>\n",
       "    </tr>\n",
       "    <tr>\n",
       "      <th>2000-03-30</th>\n",
       "      <td>0.966987</td>\n",
       "      <td>0.8372</td>\n",
       "      <td>0.0416</td>\n",
       "      <td>56.1663</td>\n",
       "      <td>9.170435e+09</td>\n",
       "    </tr>\n",
       "    <tr>\n",
       "      <th>2000-03-29</th>\n",
       "      <td>1.045345</td>\n",
       "      <td>0.8346</td>\n",
       "      <td>0.0418</td>\n",
       "      <td>57.7532</td>\n",
       "      <td>9.584835e+09</td>\n",
       "    </tr>\n",
       "    <tr>\n",
       "      <th>2000-03-28</th>\n",
       "      <td>1.069876</td>\n",
       "      <td>0.8304</td>\n",
       "      <td>0.0401</td>\n",
       "      <td>58.2633</td>\n",
       "      <td>9.824672e+09</td>\n",
       "    </tr>\n",
       "    <tr>\n",
       "      <th>2000-03-27</th>\n",
       "      <td>1.073182</td>\n",
       "      <td>0.8255</td>\n",
       "      <td>0.0375</td>\n",
       "      <td>58.3321</td>\n",
       "      <td>1.002764e+10</td>\n",
       "    </tr>\n",
       "  </tbody>\n",
       "</table>\n",
       "<p>5267 rows × 5 columns</p>\n",
       "</div>"
      ],
      "text/plain": [
       "            5. adjusted close       EMA  MACD_Signal      RSI           OBV\n",
       "date                                                                       \n",
       "2021-03-03         122.060000  124.6167      -1.6684  52.2472  9.450345e+10\n",
       "2021-03-02         125.120000  124.6684      -1.4272  53.0887  9.461641e+10\n",
       "2021-03-01         127.790000  124.6592      -1.1855  53.8376  9.471867e+10\n",
       "2021-02-26         121.260000  124.5960      -0.8905  52.2050  9.460237e+10\n",
       "2021-02-25         120.990000  124.6634      -0.4717  52.1357  9.443894e+10\n",
       "...                       ...       ...          ...      ...           ...\n",
       "2000-03-31           1.044346    0.8413       0.0412  57.3353  9.575069e+09\n",
       "2000-03-30           0.966987    0.8372       0.0416  56.1663  9.170435e+09\n",
       "2000-03-29           1.045345    0.8346       0.0418  57.7532  9.584835e+09\n",
       "2000-03-28           1.069876    0.8304       0.0401  58.2633  9.824672e+09\n",
       "2000-03-27           1.073182    0.8255       0.0375  58.3321  1.002764e+10\n",
       "\n",
       "[5267 rows x 5 columns]"
      ]
     },
     "execution_count": 14,
     "metadata": {},
     "output_type": "execute_result"
    }
   ],
   "source": [
    "stock_price.to_frame().join(ema_recent).join(macd_recent).join(rsi_recent).join(obv_recent)"
   ]
  },
  {
   "cell_type": "code",
   "execution_count": 21,
   "metadata": {},
   "outputs": [],
   "source": [
    "#组合为矩阵，与数据归一化\n",
    "from sklearn.preprocessing import MinMaxScaler\n",
    "ema=np.array(ema_recent).reshape(len(ema_recent),1)\n",
    "macd=np.array(macd_recent).reshape(len(ema_recent),1)\n",
    "obv=np.array(obv_recent).reshape(len(ema_recent),1)\n",
    "rsi=np.array(rsi_recent).reshape(len(ema_recent),1)\n",
    "sp=np.array(stock_price).reshape(len(ema_recent),1)\n",
    "scaler=MinMaxScaler()\n",
    "ema=scaler.fit_transform(ema)\n",
    "macd=scaler.fit_transform(macd)\n",
    "obv=scaler.fit_transform(obv)\n",
    "rsi=scaler.fit_transform(rsi)\n",
    "sp=scaler.fit_transform(sp)\n",
    "data_jihe=np.hstack([ema,macd,obv,rsi,sp])"
   ]
  },
  {
   "cell_type": "code",
   "execution_count": 22,
   "metadata": {},
   "outputs": [
    {
     "data": {
      "text/plain": [
       "array([[0.00483639, 0.1958447 , 0.22623543, 0.52953888, 0.85368397],\n",
       "       [0.00487575, 0.21844865, 0.22454338, 0.52742094, 0.87512096],\n",
       "       [0.00490948, 0.24109946, 0.22254394, 0.51171797, 0.89382578],\n",
       "       ...,\n",
       "       [0.99937035, 0.35611534, 0.93227241, 0.39117974, 0.00590965],\n",
       "       [0.99944424, 0.35595603, 0.9314199 , 0.36812553, 0.00608149],\n",
       "       [0.99902903, 0.35571237, 0.93047814, 0.3422207 , 0.00610466]])"
      ]
     },
     "execution_count": 22,
     "metadata": {},
     "output_type": "execute_result"
    }
   ],
   "source": [
    "data_jihe"
   ]
  },
  {
   "cell_type": "code",
   "execution_count": 182,
   "metadata": {},
   "outputs": [],
   "source": [
    "dataset=data_jihe.reshape(-1,5)\n",
    "# 调整数据集顺序，使train集是历史数据\n",
    "dataset = dataset[::-1]\n",
    "\n",
    "# 准备训练数据\n",
    "train_size=int(len(dataset)*0.65)\n",
    "train_list=dataset[:train_size]\n",
    "test_list=dataset[train_size-1:]\n",
    "\n",
    "y_train = train_list[:, -1]\n",
    "train_list = np.delete(train_list, -1, axis=1)\n",
    "X_train = train_list[:, :]\n",
    "\n",
    "y_test = test_list[:, -1]\n",
    "test_list = np.delete(test_list, -1, axis=1)\n",
    "X_test = test_list[:, :]"
   ]
  },
  {
   "cell_type": "code",
   "execution_count": 203,
   "metadata": {},
   "outputs": [
    {
     "data": {
      "text/plain": [
       "[<matplotlib.lines.Line2D at 0x7fd9df9384c0>]"
      ]
     },
     "execution_count": 203,
     "metadata": {},
     "output_type": "execute_result"
    },
    {
     "data": {
      "image/png": "[encoded data removed]",
      "text/plain": [
       "<Figure size 432x288 with 1 Axes>"
      ]
     },
     "metadata": {
      "needs_background": "light"
     },
     "output_type": "display_data"
    }
   ],
   "source": [
    "from sklearn.preprocessing import StandardScaler\n",
    "from sklearn.ensemble import RandomForestRegressor\n",
    "from sklearn import metrics\n",
    "\n",
    "# 找 mse 小的 n_estimators 参数\n",
    "mse=[]\n",
    "estimators_number = [20,30,39,40,41,45,60,80,100]\n",
    "for i in estimators_number:\n",
    "    regressor = RandomForestRegressor(n_estimators=i, oob_score=True, random_state=0)\n",
    "    regressor.fit(X_train, y_train)\n",
    "    y_pred = regressor.predict(X_test)\n",
    "    mse.append(metrics.mean_squared_error(y_test, y_pred))\n",
    "    \n",
    "plt.plot(estimators_number,mse)"
   ]
  },
  {
   "cell_type": "code",
   "execution_count": 204,
   "metadata": {},
   "outputs": [
    {
     "name": "stdout",
     "output_type": "stream",
     "text": [
      "Mean Absolute Error: 0.20180660243390794\n",
      "Mean Squared Error: 0.07799964335943714\n"
     ]
    }
   ],
   "source": [
    "sc = StandardScaler()\n",
    "X_train = sc.fit_transform(X_train)\n",
    "X_test = sc.transform(X_test)\n",
    "\n",
    "# 训练随机森林解决回归问题\n",
    "\n",
    "regressor = RandomForestRegressor(n_estimators=40, oob_score=True, random_state=0)\n",
    "regressor.fit(X_train, y_train)\n",
    "y_pred = regressor.predict(X_test)\n",
    "\n",
    "print('Mean Absolute Error:', metrics.mean_absolute_error(y_test, y_pred))\n",
    "print('Mean Squared Error:', metrics.mean_squared_error(y_test, y_pred))"
   ]
  },
  {
   "cell_type": "code",
   "execution_count": 211,
   "metadata": {},
   "outputs": [
    {
     "data": {
      "image/png": "[encoded data removed]",
      "text/plain": [
       "<Figure size 432x288 with 1 Axes>"
      ]
     },
     "metadata": {
      "needs_background": "light"
     },
     "output_type": "display_data"
    }
   ],
   "source": [
    "#画图\n",
    "y_test = y_test.reshape(-1,1)\n",
    "y_pred = y_pred.reshape(-1,1)\n",
    "y=scaler.inverse_transform(y_test)\n",
    "y1=scaler.inverse_transform(y_pred)\n",
    "\n",
    "plt.plot(y,label='real')\n",
    "plt.plot(y1,label='predict')\n",
    "plt.ylabel('price')\n",
    "plt.xlabel('days')\n",
    "plt.legend()\n",
    "plt.show()"
   ]
  },
  {
   "cell_type": "code",
   "execution_count": 212,
   "metadata": {},
   "outputs": [
    {
     "data": {
      "image/png": "[encoded data removed]",
      "text/plain": [
       "<Figure size 432x288 with 1 Axes>"
      ]
     },
     "metadata": {
      "needs_background": "light"
     },
     "output_type": "display_data"
    }
   ],
   "source": [
    "plt.plot(y[:20,-1],'bo-',label='real')\n",
    "plt.plot(y1[:20,-1],'ro-',label='predict')\n",
    "plt.ylabel('price')\n",
    "plt.xlabel('days')\n",
    "plt.legend()\n",
    "plt.show()"
   ]
  },
  {
   "cell_type": "code",
   "execution_count": null,
   "metadata": {},
   "outputs": [],
   "source": []
  }
 ],
 "metadata": {
  "kernelspec": {
   "display_name": "Python 3",
   "language": "python",
   "name": "python3"
  },
  "language_info": {
   "codemirror_mode": {
    "name": "ipython",
    "version": 3
   },
   "file_extension": ".py",
   "mimetype": "text/x-python",
   "name": "python",
   "nbconvert_exporter": "python",
   "pygments_lexer": "ipython3",
   "version": "3.9.1"
  }
 },
 "nbformat": 4,
 "nbformat_minor": 2
}
