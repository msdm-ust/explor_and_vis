{
 "cells": [
  {
   "cell_type": "markdown",
   "metadata": {},
   "source": [
    "# Visualization of Data"
   ]
  },
  {
   "cell_type": "markdown",
   "metadata": {},
   "source": [
    "## Instructions\n",
    "\n",
    "### Visualization of the german credit data\n",
    "You need to **work collaboratively** to finish this task. The objective is\n",
    "- To gain insights from the data via visualization and\n",
    "- Identify groups of good credit risk and bad credit risk (i.e. good loan takers and bad loan takers).\n",
    "\n",
    "This is the continuation of the previous task. You can find the data `german_credit_data.csv` saved under the [data](../data) folder.<br>\n",
    "NOTE: **You can check the reference website**    \n",
    "\n",
    "You already answered the questions in the previous task. Now we want to **visualize the finding below**.\n",
    "\n",
    "- What are mean age, mean credit amount, and duration?\n",
    "- What are the major three purpose of loan?\n",
    "- What is the majoriry loan taker? Male of female?<br>\n",
    "\n",
    "In order to gain the insights required, you may ask youself<br>\n",
    "For both good loan and bad loan takers:\n",
    "- What is the distrubition of purpose of loan?\n",
    "- What is the distribution of age?\n",
    "- What is the distribution of and amount of loan?\n",
    "- Is there any correlation between the purpose of loan and gender?\n",
    "- Is there any correlation between the purpose of loan and age group?\n",
    "- ...etc.\n",
    "\n",
    "You can think of any other method to analyse the data. As long as you can visualize it and help to gain insights on the good and bad loan takers.\n",
    "\n",
    "Note:\n",
    "- You are **ALLOWED** to import other library or package\n",
    "- You can write you own functions\n",
    "- Your answers should be readable with approprate comments\n",
    "- You can refer to [markdown cheatsheet](https://github.com/adam-p/markdown-here/wiki/Markdown-Cheatsheet) if you are not familar with Markdown\n",
    "\n",
    "### Reference\n",
    "This dataset was sourced from Kaggle: https://www.kaggle.com/uciml/german-credit\n",
    "\n",
    "The original source is: https://archive.ics.uci.edu/ml/datasets/Statlog+%28German+Credit+Data%29"
   ]
  },
  {
   "cell_type": "markdown",
   "metadata": {},
   "source": [
    "## Import libraries "
   ]
  },
  {
   "cell_type": "code",
   "execution_count": null,
   "metadata": {},
   "outputs": [],
   "source": [
    "# Usual libraries are imported here\n",
    "import os\n",
    "import yaml\n",
    "import dask.dataframe as dd\n",
    "import pandas as pd\n",
    "import matplotlib\n",
    "import numpy as np\n",
    "import matplotlib.pyplot as plt\n",
    "%matplotlib inline"
   ]
  },
  {
   "cell_type": "markdown",
   "metadata": {},
   "source": [
    "## Please perform your tasks below and answer the questions"
   ]
  },
  {
   "cell_type": "code",
   "execution_count": null,
   "metadata": {},
   "outputs": [],
   "source": []
  }
 ],
 "metadata": {
  "kernelspec": {
   "display_name": "Python 3",
   "language": "python",
   "name": "python3"
  },
  "language_info": {
   "codemirror_mode": {
    "name": "ipython",
    "version": 3
   },
   "file_extension": ".py",
   "mimetype": "text/x-python",
   "name": "python",
   "nbconvert_exporter": "python",
   "pygments_lexer": "ipython3",
   "version": "3.7.4"
  }
 },
 "nbformat": 4,
 "nbformat_minor": 4
}
