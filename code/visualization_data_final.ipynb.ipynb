{
 "cells": [
  {
   "cell_type": "markdown",
   "metadata": {},
   "source": [
    "# Visualization of Data"
   ]
  },
  {
   "cell_type": "markdown",
   "metadata": {},
   "source": [
    "## Instructions\n",
    "\n",
    "### Visualization of the german credit data\n",
    "You need to **work collaboratively** to finish this task. The objective is\n",
    "- To gain insights from the data via visualization and\n",
    "- Identify groups of good credit risk and bad credit risk (i.e. good loan takers and bad loan takers).\n",
    "\n",
    "This is the continuation of the previous task. You can find the data `german_credit_data.csv` saved under the [data](../data) folder.<br>\n",
    "NOTE: **You can check the reference website**    \n",
    "\n",
    "You already answered the questions in the previous task. Now we want to **visualize the finding below**.\n",
    "\n",
    "- What are mean age, mean credit amount, and duration?\n",
    "- What are the major three purpose of loan?\n",
    "- What is the majoriry loan taker? Male of female?<br>\n",
    "\n",
    "In order to gain the insights required, you may ask youself<br>\n",
    "For both good loan and bad loan takers:\n",
    "- What is the distrubition of purpose of loan?\n",
    "- What is the distribution of age?\n",
    "- What is the distribution of and amount of loan?\n",
    "- Is there any correlation between the purpose of loan and gender?\n",
    "- Is there any correlation between the purpose of loan and age group?\n",
    "- ...etc.\n",
    "\n",
    "You can think of any other method to analyse the data. As long as you can visualize it and help to gain insights on the good and bad loan takers.\n",
    "\n",
    "Note:\n",
    "- You are **ALLOWED** to import other library or package\n",
    "- You can write you own functions\n",
    "- Your answers should be readable with approprate comments\n",
    "- You can refer to [markdown cheatsheet](https://github.com/adam-p/markdown-here/wiki/Markdown-Cheatsheet) if you are not familar with Markdown\n",
    "\n",
    "### Reference\n",
    "This dataset was sourced from Kaggle: https://www.kaggle.com/uciml/german-credit\n",
    "\n",
    "The original source is: https://archive.ics.uci.edu/ml/datasets/Statlog+%28German+Credit+Data%29"
   ]
  },
  {
   "cell_type": "markdown",
   "metadata": {},
   "source": [
    "## Import libraries "
   ]
  },
  {
   "cell_type": "code",
   "execution_count": 1,
   "metadata": {},
   "outputs": [],
   "source": [
    "# Usual libraries are imported here\n",
    "import os\n",
    "import yaml\n",
    "import dask.dataframe as dd\n",
    "import pandas as pd\n",
    "import matplotlib\n",
    "import numpy as np\n",
    "import matplotlib.pyplot as plt\n",
    "%matplotlib inline"
   ]
  },
  {
   "cell_type": "markdown",
   "metadata": {},
   "source": [
    "## Please perform your tasks below and answer the questions"
   ]
  },
  {
   "cell_type": "code",
   "execution_count": 3,
   "metadata": {},
   "outputs": [
    {
     "data": {
      "text/html": [
       "<div>\n",
       "<style scoped>\n",
       "    .dataframe tbody tr th:only-of-type {\n",
       "        vertical-align: middle;\n",
       "    }\n",
       "\n",
       "    .dataframe tbody tr th {\n",
       "        vertical-align: top;\n",
       "    }\n",
       "\n",
       "    .dataframe thead th {\n",
       "        text-align: right;\n",
       "    }\n",
       "</style>\n",
       "<table border=\"1\" class=\"dataframe\">\n",
       "  <thead>\n",
       "    <tr style=\"text-align: right;\">\n",
       "      <th></th>\n",
       "      <th>Unnamed: 0</th>\n",
       "      <th>Age</th>\n",
       "      <th>Sex</th>\n",
       "      <th>Job</th>\n",
       "      <th>Housing</th>\n",
       "      <th>Saving accounts</th>\n",
       "      <th>Checking account</th>\n",
       "      <th>Credit amount</th>\n",
       "      <th>Duration</th>\n",
       "      <th>Purpose</th>\n",
       "    </tr>\n",
       "  </thead>\n",
       "  <tbody>\n",
       "    <tr>\n",
       "      <th>0</th>\n",
       "      <td>0</td>\n",
       "      <td>67</td>\n",
       "      <td>male</td>\n",
       "      <td>2</td>\n",
       "      <td>own</td>\n",
       "      <td>NaN</td>\n",
       "      <td>little</td>\n",
       "      <td>1169</td>\n",
       "      <td>6</td>\n",
       "      <td>radio/TV</td>\n",
       "    </tr>\n",
       "    <tr>\n",
       "      <th>1</th>\n",
       "      <td>1</td>\n",
       "      <td>22</td>\n",
       "      <td>female</td>\n",
       "      <td>2</td>\n",
       "      <td>own</td>\n",
       "      <td>little</td>\n",
       "      <td>moderate</td>\n",
       "      <td>5951</td>\n",
       "      <td>48</td>\n",
       "      <td>radio/TV</td>\n",
       "    </tr>\n",
       "    <tr>\n",
       "      <th>2</th>\n",
       "      <td>2</td>\n",
       "      <td>49</td>\n",
       "      <td>male</td>\n",
       "      <td>1</td>\n",
       "      <td>own</td>\n",
       "      <td>little</td>\n",
       "      <td>NaN</td>\n",
       "      <td>2096</td>\n",
       "      <td>12</td>\n",
       "      <td>education</td>\n",
       "    </tr>\n",
       "    <tr>\n",
       "      <th>3</th>\n",
       "      <td>3</td>\n",
       "      <td>45</td>\n",
       "      <td>male</td>\n",
       "      <td>2</td>\n",
       "      <td>free</td>\n",
       "      <td>little</td>\n",
       "      <td>little</td>\n",
       "      <td>7882</td>\n",
       "      <td>42</td>\n",
       "      <td>furniture/equipment</td>\n",
       "    </tr>\n",
       "    <tr>\n",
       "      <th>4</th>\n",
       "      <td>4</td>\n",
       "      <td>53</td>\n",
       "      <td>male</td>\n",
       "      <td>2</td>\n",
       "      <td>free</td>\n",
       "      <td>little</td>\n",
       "      <td>little</td>\n",
       "      <td>4870</td>\n",
       "      <td>24</td>\n",
       "      <td>car</td>\n",
       "    </tr>\n",
       "  </tbody>\n",
       "</table>\n",
       "</div>"
      ],
      "text/plain": [
       "   Unnamed: 0  Age     Sex  Job Housing Saving accounts Checking account  \\\n",
       "0           0   67    male    2     own             NaN           little   \n",
       "1           1   22  female    2     own          little         moderate   \n",
       "2           2   49    male    1     own          little              NaN   \n",
       "3           3   45    male    2    free          little           little   \n",
       "4           4   53    male    2    free          little           little   \n",
       "\n",
       "   Credit amount  Duration              Purpose  \n",
       "0           1169         6             radio/TV  \n",
       "1           5951        48             radio/TV  \n",
       "2           2096        12            education  \n",
       "3           7882        42  furniture/equipment  \n",
       "4           4870        24                  car  "
      ]
     },
     "execution_count": 3,
     "metadata": {},
     "output_type": "execute_result"
    }
   ],
   "source": [
    "data = pd.read_csv('../data/german_credit_data.csv')\n",
    "data.head()"
   ]
  },
  {
   "cell_type": "markdown",
   "metadata": {},
   "source": [
    "### Distribution of purpose"
   ]
  },
  {
   "cell_type": "code",
   "execution_count": 146,
   "metadata": {},
   "outputs": [
    {
     "name": "stdout",
     "output_type": "stream",
     "text": [
      "['domestic appliances', 'vacation/others', 'repairs', 'education', 'business', 'furniture/equipment', 'radio/TV', 'car']\n",
      "[12, 12, 22, 59, 97, 181, 280, 337]\n"
     ]
    }
   ],
   "source": [
    "unique,counts = np.unique(list(data['Purpose']),return_counts=True)\n",
    "dict1 = dict(zip(unique,counts))\n",
    "# dict1\n",
    "propose_dict = {k: v for k, v in sorted(dict1.items(), key=lambda item: item[1])}\n",
    "\n",
    "p_labels=list((propose_dict.keys()))\n",
    "# propose_dict[1]\n",
    "p_fracs=[propose_dict.get(p_labels[i]) for i in range(len(p_labels))]\n",
    "print(p_labels)\n",
    "print(p_fracs)"
   ]
  },
  {
   "cell_type": "code",
   "execution_count": 151,
   "metadata": {},
   "outputs": [
    {
     "data": {
      "image/png": "[encoded data removed]",
      "text/plain": [
       "<Figure size 504x360 with 1 Axes>"
      ]
     },
     "metadata": {},
     "output_type": "display_data"
    }
   ],
   "source": [
    "fig=plt.figure(figsize=(7,5))\n",
    "# plt.pie(x=p_fracs, labels=p_labels,autopct='%3.1f %%',shadow=True, labeldistance=1.1, startangle = 90,pctdistance = 0.6)\n",
    "plt.pie(x=p_fracs, labels=p_labels, autopct='%.2f%%',pctdistance=0.8,explode=(0.5,0.5,0.5,0,0,0,0,0))\n",
    "plt.title('Purpose Distribution',fontsize=20)\n",
    "plt.legend(loc=(-0.7,0.5))\n",
    "plt.show()"
   ]
  },
  {
   "cell_type": "markdown",
   "metadata": {},
   "source": [
    "### Distribution of gender"
   ]
  },
  {
   "cell_type": "code",
   "execution_count": 152,
   "metadata": {},
   "outputs": [
    {
     "data": {
      "text/html": [
       "<div>\n",
       "<style scoped>\n",
       "    .dataframe tbody tr th:only-of-type {\n",
       "        vertical-align: middle;\n",
       "    }\n",
       "\n",
       "    .dataframe tbody tr th {\n",
       "        vertical-align: top;\n",
       "    }\n",
       "\n",
       "    .dataframe thead th {\n",
       "        text-align: right;\n",
       "    }\n",
       "</style>\n",
       "<table border=\"1\" class=\"dataframe\">\n",
       "  <thead>\n",
       "    <tr style=\"text-align: right;\">\n",
       "      <th></th>\n",
       "      <th>Age</th>\n",
       "    </tr>\n",
       "    <tr>\n",
       "      <th>Sex</th>\n",
       "      <th></th>\n",
       "    </tr>\n",
       "  </thead>\n",
       "  <tbody>\n",
       "    <tr>\n",
       "      <th>female</th>\n",
       "      <td>310</td>\n",
       "    </tr>\n",
       "    <tr>\n",
       "      <th>male</th>\n",
       "      <td>690</td>\n",
       "    </tr>\n",
       "  </tbody>\n",
       "</table>\n",
       "</div>"
      ],
      "text/plain": [
       "        Age\n",
       "Sex        \n",
       "female  310\n",
       "male    690"
      ]
     },
     "execution_count": 152,
     "metadata": {},
     "output_type": "execute_result"
    }
   ],
   "source": [
    "data[['Sex','Age']].groupby('Sex').count()"
   ]
  },
  {
   "cell_type": "code",
   "execution_count": 159,
   "metadata": {},
   "outputs": [
    {
     "data": {
      "image/png": "[encoded data removed]",
      "text/plain": [
       "<Figure size 432x288 with 1 Axes>"
      ]
     },
     "metadata": {},
     "output_type": "display_data"
    }
   ],
   "source": [
    "plt.figure()\n",
    "plt.pie(x=[690,310],labels=['male','female'],autopct='%.1f%%',pctdistance=0.8)\n",
    "plt.show()"
   ]
  },
  {
   "cell_type": "markdown",
   "metadata": {},
   "source": [
    "### Distribution of age"
   ]
  },
  {
   "cell_type": "code",
   "execution_count": 90,
   "metadata": {},
   "outputs": [
    {
     "name": "stdout",
     "output_type": "stream",
     "text": [
      "mean age is 35.546\n"
     ]
    },
    {
     "data": {
      "image/png": "[encoded data removed]",
      "text/plain": [
       "<Figure size 540x360 with 1 Axes>"
      ]
     },
     "metadata": {
      "needs_background": "light"
     },
     "output_type": "display_data"
    }
   ],
   "source": [
    "Age = data['Age']\n",
    "mean_age = np.mean(Age)\n",
    "print('mean age is',mean_age)\n",
    "bin_count_age = np.bincount(Age)\n",
    "\n",
    "min_ = np.min(Age)\n",
    "\n",
    "plt.figure(figsize=(7.5,5))\n",
    "plt.title('Age Distribution')\n",
    "x = np.linspace(start = 0,stop = len(bin_count_age),num = len(bin_count_age))\n",
    "plt.bar(x[min_:],bin_count_age[min_:],tick_label = None)\n",
    "# plt.bar(mean_age,45,alpha=0.6,width=0.4,label='mean',tick_label = mean_age)\n",
    "plt.bar(mean_age,45,alpha=0.6,width=0.4,label='mean')\n",
    "plt.legend()\n",
    "\n",
    "# x_ticks = np.append(plt.gca().get_xticks(), 35.546)\n",
    "# x_ticks = np.append([i for i in range(20,85,10)],35.546)\n",
    "# x_ticks = [20, 30.   , 40.   , 50.   , 60.   , 70.   , 35.546]\n",
    "x_ticks = [20, 30, 40, 50, 60, 70 , 35.546]\n",
    "# print(x_ticks)\n",
    "\n",
    "plt.gca().set_xticks(x_ticks)\n",
    "\n",
    "# plt.hist(Age,rwidth=0.8)\n",
    "# plt.hist(bin_count_age)\n",
    "plt.show()"
   ]
  },
  {
   "cell_type": "markdown",
   "metadata": {},
   "source": [
    "### Distribution of duration"
   ]
  },
  {
   "cell_type": "code",
   "execution_count": 103,
   "metadata": {},
   "outputs": [
    {
     "name": "stdout",
     "output_type": "stream",
     "text": [
      "mean duration is 20.903\n"
     ]
    },
    {
     "data": {
      "image/png": "[encoded data removed]",
      "text/plain": [
       "<Figure size 432x288 with 1 Axes>"
      ]
     },
     "metadata": {
      "needs_background": "light"
     },
     "output_type": "display_data"
    }
   ],
   "source": [
    "duration = data['Duration']\n",
    "mean_duration = np.mean(duration)\n",
    "print('mean duration is',mean_duration)\n",
    "plt.hist(duration)\n",
    "plt.bar(mean_duration,330,alpha=0.6,width=2,label='mean',color='orange')\n",
    "# bin_count_duration = np.bincount(duration)\n",
    "# print(bin_count_duration)\n",
    "# min_ = np.min(duration)\n",
    "# plt.figure(figsize=(10,8))\n",
    "# plt.title('Duration Distribution')\n",
    "# x = np.linspace(start = 0,stop = len(bin_count_duration),num = len(bin_count_duration))\n",
    "# plt.bar(x[min_:],bin_count_duration[min_:],tick_label = None)\n",
    "plt.legend()\n",
    "plt.show()"
   ]
  },
  {
   "cell_type": "markdown",
   "metadata": {},
   "source": [
    "### Distribution of credit amount"
   ]
  },
  {
   "cell_type": "code",
   "execution_count": 107,
   "metadata": {},
   "outputs": [
    {
     "name": "stdout",
     "output_type": "stream",
     "text": [
      "mean credit_amount is 3271.258\n"
     ]
    },
    {
     "data": {
      "image/png": "[encoded data removed]",
      "text/plain": [
       "<Figure size 432x288 with 1 Axes>"
      ]
     },
     "metadata": {
      "needs_background": "light"
     },
     "output_type": "display_data"
    }
   ],
   "source": [
    "credit_amount = data['Credit amount']\n",
    "mean_credit_amount = np.mean(credit_amount)\n",
    "print('mean credit_amount is',mean_credit_amount)\n",
    "plt.hist(credit_amount)\n",
    "plt.bar(mean_credit_amount,330,alpha=0.6,width=1000,label='mean',color='orange')\n",
    "# # bin_count_duration = np.bincount(duration)\n",
    "# # print(bin_count_duration)\n",
    "# # min_ = np.min(duration)\n",
    "# # plt.figure(figsize=(10,8))\n",
    "# # plt.title('Duration Distribution')\n",
    "# # x = np.linspace(start = 0,stop = len(bin_count_duration),num = len(bin_count_duration))\n",
    "# # plt.bar(x[min_:],bin_count_duration[min_:],tick_label = None)\n",
    "plt.legend()\n",
    "plt.show()"
   ]
  }
 ],
 "metadata": {
  "kernelspec": {
   "display_name": "Python 3",
   "language": "python",
   "name": "python3"
  },
  "language_info": {
   "codemirror_mode": {
    "name": "ipython",
    "version": 3
   },
   "file_extension": ".py",
   "mimetype": "text/x-python",
   "name": "python",
   "nbconvert_exporter": "python",
   "pygments_lexer": "ipython3",
   "version": "3.7.3"
  }
 },
 "nbformat": 4,
 "nbformat_minor": 4
}
