{
 "cells": [
  {
   "cell_type": "markdown",
   "metadata": {},
   "source": [
    "# Data Exploration"
   ]
  },
  {
   "cell_type": "markdown",
   "metadata": {},
   "source": [
    "## Instructions\n",
    "There are some data files related to transaction saved under the [data](../data) folder:\n",
    "- Looking into the data using appropriate functions and extract the fields in the data.\n",
    "- For each data, describe what the data is about and what fields are saved.\n",
    "\n",
    "You need to answer the questions and perform the task below:\n",
    "- How many transactions are in GBP?\n",
    "- How many transactions are NOT in USD?\n",
    "- What is the average and mediam transaction in USD?\n",
    "- Construct a table showing the number of transactions in EACH currency\n",
    "\n",
    "Note:\n",
    "- You are NOT ALLOWED to import other library or package\n",
    "- You can write you own functions\n",
    "- Your answers should be readable with approprate comments\n",
    "- You can refer to [markdown cheatsheet](https://github.com/adam-p/markdown-here/wiki/Markdown-Cheatsheet) if you are not familar with Markdown"
   ]
  },
  {
   "cell_type": "markdown",
   "metadata": {},
   "source": [
    "## Import libraries "
   ]
  },
  {
   "cell_type": "code",
   "execution_count": 2,
   "metadata": {},
   "outputs": [],
   "source": [
    "# Usual libraries are imported here\n",
    "import os\n",
    "import yaml\n",
    "import dask.dataframe as dd\n",
    "import pandas as pd\n",
    "import matplotlib\n",
    "import numpy as np\n",
    "import matplotlib.pyplot as plt\n",
    "%matplotlib inline"
   ]
  },
  {
   "cell_type": "markdown",
   "metadata": {},
   "source": [
    "## Please perform your tasks below and answer the questions"
   ]
  },
  {
   "cell_type": "code",
   "execution_count": null,
   "metadata": {},
   "outputs": [],
   "source": []
  }
 ],
 "metadata": {
  "kernelspec": {
   "display_name": "Python 3",
   "language": "python",
   "name": "python3"
  },
  "language_info": {
   "codemirror_mode": {
    "name": "ipython",
    "version": 3
   },
   "file_extension": ".py",
   "mimetype": "text/x-python",
   "name": "python",
   "nbconvert_exporter": "python",
   "pygments_lexer": "ipython3",
   "version": "3.7.3"
  }
 },
 "nbformat": 4,
 "nbformat_minor": 4
}
