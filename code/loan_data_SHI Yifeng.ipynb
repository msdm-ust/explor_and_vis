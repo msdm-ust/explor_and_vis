{
 "cells": [
  {
   "cell_type": "markdown",
   "metadata": {},
   "source": [
    "# German Loan Data"
   ]
  },
  {
   "cell_type": "markdown",
   "metadata": {},
   "source": [
    "## Instructions\n",
    "\n",
    "### Banking: Loan Approval Case\n",
    "In this use case, each entry in the dataset represents a person who takes a credit loan from a bank. The learning task is to classify each person as either a good or bad credit risk according to the set of attributes.\n",
    "\n",
    "You can find the data `german_credit_data.csv` saved under the [data](../data) folder:<br>\n",
    "NOTE: At this point, **DO NOT check the reference website**\n",
    "- Looking into the data using appropriate functions and extract the fields in the data.\n",
    "- For each data, describe what the data is about and what fields are saved.\n",
    "    - Which column contain continuous variables and which columns contain categorical variables?    \n",
    "\n",
    "You need to answer the questions and perform the task below:\n",
    "- What are mean age, mean credit amount, and duration?\n",
    "- What are the major three purpose of loan?\n",
    "- What is the majoriry loan taker? Male of female?\n",
    "\n",
    "Note:\n",
    "- You are NOT ALLOWED to import other library or package\n",
    "- You can write you own functions\n",
    "- Your answers should be readable with approprate comments\n",
    "- You can refer to [markdown cheatsheet](https://github.com/adam-p/markdown-here/wiki/Markdown-Cheatsheet) if you are not familar with Markdown\n",
    "\n",
    "### Reference\n",
    "This dataset was sourced from Kaggle: https://www.kaggle.com/uciml/german-credit\n",
    "\n",
    "The original source is: https://archive.ics.uci.edu/ml/datasets/Statlog+%28German+Credit+Data%29"
   ]
  },
  {
   "cell_type": "markdown",
   "metadata": {},
   "source": [
    "## Import libraries "
   ]
  },
  {
   "cell_type": "code",
   "execution_count": 3,
   "metadata": {},
   "outputs": [],
   "source": [
    "# Usual libraries are imported here\n",
    "import os\n",
    "import yaml\n",
    "import dask.dataframe as dd\n",
    "import pandas as pd\n",
    "import matplotlib\n",
    "import numpy as np\n",
    "import matplotlib.pyplot as plt\n",
    "%matplotlib inline"
   ]
  },
  {
   "cell_type": "markdown",
   "metadata": {},
   "source": [
    "## Please perform your tasks below and answer the questions"
   ]
  },
  {
   "cell_type": "markdown",
   "metadata": {},
   "source": [
    "The \"german_credit_data.csv\" table contains some credit information of the loan takers in German, incluing the age, sex, job, housing state, svaing accounts, checking accounts, credit amount, duration and purpose of loan. Among these columns, the \"Age\", \"Credit amount\" and \"Duration\" columns contain continuous variables and the rest columns contain categorical variables."
   ]
  },
  {
   "cell_type": "code",
   "execution_count": 8,
   "metadata": {},
   "outputs": [
    {
     "data": {
      "text/html": [
       "<div>\n",
       "<style scoped>\n",
       "    .dataframe tbody tr th:only-of-type {\n",
       "        vertical-align: middle;\n",
       "    }\n",
       "\n",
       "    .dataframe tbody tr th {\n",
       "        vertical-align: top;\n",
       "    }\n",
       "\n",
       "    .dataframe thead th {\n",
       "        text-align: right;\n",
       "    }\n",
       "</style>\n",
       "<table border=\"1\" class=\"dataframe\">\n",
       "  <thead>\n",
       "    <tr style=\"text-align: right;\">\n",
       "      <th></th>\n",
       "      <th>Age</th>\n",
       "      <th>Sex</th>\n",
       "      <th>Job</th>\n",
       "      <th>Housing</th>\n",
       "      <th>Saving accounts</th>\n",
       "      <th>Checking account</th>\n",
       "      <th>Credit amount</th>\n",
       "      <th>Duration</th>\n",
       "      <th>Purpose</th>\n",
       "    </tr>\n",
       "  </thead>\n",
       "  <tbody>\n",
       "    <tr>\n",
       "      <th>0</th>\n",
       "      <td>67</td>\n",
       "      <td>male</td>\n",
       "      <td>2</td>\n",
       "      <td>own</td>\n",
       "      <td>NaN</td>\n",
       "      <td>little</td>\n",
       "      <td>1169</td>\n",
       "      <td>6</td>\n",
       "      <td>radio/TV</td>\n",
       "    </tr>\n",
       "    <tr>\n",
       "      <th>1</th>\n",
       "      <td>22</td>\n",
       "      <td>female</td>\n",
       "      <td>2</td>\n",
       "      <td>own</td>\n",
       "      <td>little</td>\n",
       "      <td>moderate</td>\n",
       "      <td>5951</td>\n",
       "      <td>48</td>\n",
       "      <td>radio/TV</td>\n",
       "    </tr>\n",
       "    <tr>\n",
       "      <th>2</th>\n",
       "      <td>49</td>\n",
       "      <td>male</td>\n",
       "      <td>1</td>\n",
       "      <td>own</td>\n",
       "      <td>little</td>\n",
       "      <td>NaN</td>\n",
       "      <td>2096</td>\n",
       "      <td>12</td>\n",
       "      <td>education</td>\n",
       "    </tr>\n",
       "    <tr>\n",
       "      <th>3</th>\n",
       "      <td>45</td>\n",
       "      <td>male</td>\n",
       "      <td>2</td>\n",
       "      <td>free</td>\n",
       "      <td>little</td>\n",
       "      <td>little</td>\n",
       "      <td>7882</td>\n",
       "      <td>42</td>\n",
       "      <td>furniture/equipment</td>\n",
       "    </tr>\n",
       "    <tr>\n",
       "      <th>4</th>\n",
       "      <td>53</td>\n",
       "      <td>male</td>\n",
       "      <td>2</td>\n",
       "      <td>free</td>\n",
       "      <td>little</td>\n",
       "      <td>little</td>\n",
       "      <td>4870</td>\n",
       "      <td>24</td>\n",
       "      <td>car</td>\n",
       "    </tr>\n",
       "  </tbody>\n",
       "</table>\n",
       "</div>"
      ],
      "text/plain": [
       "   Age     Sex  Job Housing Saving accounts Checking account  Credit amount  \\\n",
       "0   67    male    2     own             NaN           little           1169   \n",
       "1   22  female    2     own          little         moderate           5951   \n",
       "2   49    male    1     own          little              NaN           2096   \n",
       "3   45    male    2    free          little           little           7882   \n",
       "4   53    male    2    free          little           little           4870   \n",
       "\n",
       "   Duration              Purpose  \n",
       "0         6             radio/TV  \n",
       "1        48             radio/TV  \n",
       "2        12            education  \n",
       "3        42  furniture/equipment  \n",
       "4        24                  car  "
      ]
     },
     "execution_count": 8,
     "metadata": {},
     "output_type": "execute_result"
    }
   ],
   "source": [
    "source_data=pd.read_csv('../data/german-credit/german_credit_data.csv',index_col=0)\n",
    "source_data.head()"
   ]
  },
  {
   "cell_type": "code",
   "execution_count": 9,
   "metadata": {},
   "outputs": [
    {
     "name": "stdout",
     "output_type": "stream",
     "text": [
      "The mean age is 35.546.\n",
      "The mean credit amount is 3271.258.\n",
      "The mean duration is 20.903.\n"
     ]
    }
   ],
   "source": [
    "#question 1\n",
    "Age=source_data[\"Age\"]\n",
    "credit_amount=source_data[\"Credit amount\"]\n",
    "duration=source_data[\"Duration\"]\n",
    "mean_age=np.mean(Age)\n",
    "mean_credit_amount=np.mean(credit_amount)\n",
    "mean_duration=np.mean(duration)\n",
    "print(\"The mean age is {}.\".format(mean_age))\n",
    "print(\"The mean credit amount is {}.\".format(mean_credit_amount))\n",
    "print(\"The mean duration is {}.\".format(mean_duration))"
   ]
  },
  {
   "cell_type": "code",
   "execution_count": 14,
   "metadata": {},
   "outputs": [
    {
     "name": "stdout",
     "output_type": "stream",
     "text": [
      "The major three purpose of loan are:\n",
      "car\n",
      "radio/TV\n",
      "furniture/equipment\n"
     ]
    }
   ],
   "source": [
    "#question 2\n",
    "Purpose=source_data[\"Purpose\"]\n",
    "purpose_descend=Purpose.value_counts()    # Calculate the frequency of different data in Purpose column, then arrange them in descending order.\n",
    "print(\"The major three purpose of loan are:\")\n",
    "for i in purpose_descend.keys()[:3]:\n",
    "    print(i)"
   ]
  },
  {
   "cell_type": "code",
   "execution_count": 16,
   "metadata": {},
   "outputs": [
    {
     "name": "stdout",
     "output_type": "stream",
     "text": [
      " The majoriry loan taker is male.\n"
     ]
    }
   ],
   "source": [
    "#question 3\n",
    "Sex=source_data[\"Sex\"]\n",
    "x=Sex.value_counts()    # Calculate the number of 'male' and 'female' in Sex column, then arrange them in descending order.\n",
    "print(\" The majoriry loan taker is {}.\".format(x.keys()[0]))"
   ]
  },
  {
   "cell_type": "code",
   "execution_count": null,
   "metadata": {},
   "outputs": [],
   "source": []
  }
 ],
 "metadata": {
  "kernelspec": {
   "display_name": "Python 3",
   "language": "python",
   "name": "python3"
  },
  "language_info": {
   "codemirror_mode": {
    "name": "ipython",
    "version": 3
   },
   "file_extension": ".py",
   "mimetype": "text/x-python",
   "name": "python",
   "nbconvert_exporter": "python",
   "pygments_lexer": "ipython3",
   "version": "3.7.0"
  }
 },
 "nbformat": 4,
 "nbformat_minor": 4
}
