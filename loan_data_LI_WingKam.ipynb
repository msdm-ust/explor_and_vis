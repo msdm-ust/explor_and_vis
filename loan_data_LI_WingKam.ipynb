{
 "cells": [
  {
   "cell_type": "markdown",
   "metadata": {},
   "source": [
    "# German Loan Data"
   ]
  },
  {
   "cell_type": "markdown",
   "metadata": {},
   "source": [
    "## Instructions\n",
    "\n",
    "### Banking: Loan Approval Case\n",
    "In this use case, each entry in the dataset represents a person who takes a credit loan from a bank. The learning task is to classify each person as either a good or bad credit risk according to the set of attributes.\n",
    "\n",
    "You can find the data `german_credit_data.csv` saved under the [data](../data) folder:<br>\n",
    "NOTE: At this point, **DO NOT check the reference website**\n",
    "- Looking into the data using appropriate functions and extract the fields in the data.\n",
    "- For each data, describe what the data is about and what fields are saved.\n",
    "    - Which column contain continuous variables and which columns contain categorical variables?    \n",
    "\n",
    "You need to answer the questions and perform the task below:\n",
    "- What are mean age, mean credit amount, and duration?\n",
    "- What are the major three purpose of loan?\n",
    "- What is the majoriry loan taker? Male of female?\n",
    "\n",
    "Note:\n",
    "- You are NOT ALLOWED to import other library or package\n",
    "- You can write you own functions\n",
    "- Your answers should be readable with approprate comments\n",
    "- You can refer to [markdown cheatsheet](https://github.com/adam-p/markdown-here/wiki/Markdown-Cheatsheet) if you are not familar with Markdown\n",
    "\n",
    "### Reference\n",
    "This dataset was sourced from Kaggle: https://www.kaggle.com/uciml/german-credit\n",
    "\n",
    "The original source is: https://archive.ics.uci.edu/ml/datasets/Statlog+%28German+Credit+Data%29"
   ]
  },
  {
   "cell_type": "markdown",
   "metadata": {},
   "source": [
    "## Import libraries "
   ]
  },
  {
   "cell_type": "code",
   "execution_count": 57,
   "metadata": {},
   "outputs": [],
   "source": [
    "# Usual libraries are imported here\n",
    "import os\n",
    "import yaml\n",
    "import dask.dataframe as dd\n",
    "import pandas as pd\n",
    "import matplotlib\n",
    "import numpy as np\n",
    "import matplotlib.pyplot as plt\n",
    "%matplotlib inline"
   ]
  },
  {
   "cell_type": "markdown",
   "metadata": {},
   "source": [
    "## Please perform your tasks below and answer the questions"
   ]
  },
  {
   "cell_type": "code",
   "execution_count": 58,
   "metadata": {},
   "outputs": [
    {
     "name": "stdout",
     "output_type": "stream",
     "text": [
      "Column Name:    Unnamed: 0          \n",
      "dtypes:         int64               \n",
      "Variable types: index                \n",
      "\n",
      "Column Name:    Age                 \n",
      "dtypes:         int64               \n",
      "Variable types: Continuous Variables \n",
      "\n",
      "Column Name:    Sex                 \n",
      "dtypes:         object              \n",
      "Variable types: Categorical Variables \n",
      "\n",
      "Column Name:    Job                 \n",
      "dtypes:         int64               \n",
      "Variable types: Continuous Variables \n",
      "\n",
      "Column Name:    Housing             \n",
      "dtypes:         object              \n",
      "Variable types: Categorical Variables \n",
      "\n",
      "Column Name:    Saving accounts     \n",
      "dtypes:         object              \n",
      "Variable types: Categorical Variables \n",
      "\n",
      "Column Name:    Checking account    \n",
      "dtypes:         object              \n",
      "Variable types: Categorical Variables \n",
      "\n",
      "Column Name:    Credit amount       \n",
      "dtypes:         int64               \n",
      "Variable types: Continuous Variables \n",
      "\n",
      "Column Name:    Duration            \n",
      "dtypes:         int64               \n",
      "Variable types: Continuous Variables \n",
      "\n",
      "Column Name:    Purpose             \n",
      "dtypes:         object              \n",
      "Variable types: Categorical Variables \n",
      "\n"
     ]
    }
   ],
   "source": [
    "# Read the csv file\n",
    "\n",
    "data = pd.read_csv(\"german_credit_data.csv\") \n",
    "\n",
    "# Loop through the column name of the dataset and read through its dtypes\n",
    "# Use dtypes to determine if they are continuous variables or categorical variables\n",
    "\n",
    "for i in range(data.shape[1]):\n",
    "    print(\"Column Name:\".ljust(15), data.columns[i].ljust(20))\n",
    "    print(\"dtypes:\".ljust(15), str(data[data.columns[i]].dtypes).ljust(20))\n",
    "    if i == 0:\n",
    "        print(\"Variable types:\".ljust(13), \"index\".ljust(20), \"\\n\")\n",
    "    else:\n",
    "        if data[data.columns[i]].dtypes != \"object\":\n",
    "            vtype = \"Continuous Variables\"\n",
    "        else:\n",
    "            vtype = \"Categorical Variables\"\n",
    "        print(\"Variable types:\".ljust(13), vtype.ljust(20), \"\\n\")"
   ]
  },
  {
   "cell_type": "code",
   "execution_count": 59,
   "metadata": {},
   "outputs": [
    {
     "name": "stdout",
     "output_type": "stream",
     "text": [
      "The mean age, credit amount and duration were 36 ,3271 and 21 respectively.\n"
     ]
    }
   ],
   "source": [
    "# Find the mean age, mean credit amount, and duration\n",
    "mean_age = data['Age'].mean()\n",
    "mean_creditamt = data['Credit amount'].mean()\n",
    "mean_duration = data['Duration'].mean()\n",
    "\n",
    "print(\"The mean age, credit amount and duration were \", \"{:.0f}\".format(mean_age), \" ,\", \n",
    "      \"{:.0f}\".format(mean_creditamt), \" and \", \"{:.0f}\".format(mean_duration), \" respectively.\", sep=\"\")"
   ]
  },
  {
   "cell_type": "code",
   "execution_count": 73,
   "metadata": {
    "scrolled": true
   },
   "outputs": [
    {
     "name": "stdout",
     "output_type": "stream",
     "text": [
      "The major three purposes of loans were used for: car, radio/TV and furniture/equipment\n"
     ]
    }
   ],
   "source": [
    "# Find the major three purpose of loan\n",
    "\n",
    "print(\"The major three purposes of loans were used for: \", data[\"Purpose\"].value_counts().index[0],\n",
    "     \", \",  data[\"Purpose\"].value_counts().index[1], \n",
    "     \" and \", data[\"Purpose\"].value_counts().index[2], sep=\"\")"
   ]
  },
  {
   "cell_type": "code",
   "execution_count": 82,
   "metadata": {},
   "outputs": [
    {
     "name": "stdout",
     "output_type": "stream",
     "text": [
      "The majority loan taker wasmale with 690 applications\n"
     ]
    }
   ],
   "source": [
    "# Find the majoriry loan taker\n",
    "print(\"The majority loan taker was \", data[\"Sex\"].value_counts().index[0], \" with \", \n",
    "     data[\"Sex\"].value_counts()[0], \" applications\", sep=\"\")"
   ]
  }
 ],
 "metadata": {
  "kernelspec": {
   "display_name": "Python 3",
   "language": "python",
   "name": "python3"
  },
  "language_info": {
   "codemirror_mode": {
    "name": "ipython",
    "version": 3
   },
   "file_extension": ".py",
   "mimetype": "text/x-python",
   "name": "python",
   "nbconvert_exporter": "python",
   "pygments_lexer": "ipython3",
   "version": "3.7.4"
  }
 },
 "nbformat": 4,
 "nbformat_minor": 4
}
